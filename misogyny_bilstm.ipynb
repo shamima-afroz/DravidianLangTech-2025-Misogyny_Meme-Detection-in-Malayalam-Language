{
  "nbformat": 4,
  "nbformat_minor": 0,
  "metadata": {
    "colab": {
      "provenance": []
    },
    "kernelspec": {
      "name": "python3",
      "display_name": "Python 3"
    },
    "language_info": {
      "name": "python"
    }
  },
  "cells": [
    {
      "cell_type": "code",
      "execution_count": null,
      "metadata": {
        "colab": {
          "base_uri": "https://localhost:8080/"
        },
        "id": "60dO1OcLF4K5",
        "outputId": "1e32ee01-8406-4e48-a5ce-dd224397c388"
      },
      "outputs": [
        {
          "output_type": "stream",
          "name": "stdout",
          "text": [
            "CPU times: user 52.1 ms, sys: 9.9 ms, total: 62 ms\n",
            "Wall time: 123 ms\n"
          ]
        },
        {
          "output_type": "stream",
          "name": "stderr",
          "text": [
            "[nltk_data] Downloading package punkt to /root/nltk_data...\n",
            "[nltk_data]   Package punkt is already up-to-date!\n"
          ]
        }
      ],
      "source": [
        "%%time\n",
        "import os\n",
        "from glob import glob\n",
        "import numpy as np\n",
        "import matplotlib.pyplot as plt\n",
        "%matplotlib inline\n",
        "import pandas as pd\n",
        "import seaborn as sns\n",
        "import re\n",
        "import nltk\n",
        "import json\n",
        "import tensorflow as tf\n",
        "from sklearn.utils import class_weight\n",
        "from tensorflow.keras.preprocessing.sequence import pad_sequences\n",
        "from tensorflow.keras.preprocessing.text import Tokenizer\n",
        "from sklearn.preprocessing import MultiLabelBinarizer\n",
        "from sklearn.metrics import confusion_matrix\n",
        "from sklearn.metrics import classification_report\n",
        "from sklearn.model_selection import train_test_split\n",
        "from sklearn.metrics import accuracy_score,precision_score,recall_score,f1_score,roc_auc_score\n",
        "from sklearn.metrics import average_precision_score,roc_auc_score, roc_curve, precision_recall_curve\n",
        "from sklearn.preprocessing import LabelEncoder\n",
        "np.random.seed(42)\n",
        "import nltk\n",
        "nltk.download('punkt')\n",
        "from nltk.corpus import stopwords\n",
        "from nltk.tokenize import word_tokenize\n",
        "from nltk.tokenize import ToktokTokenizer\n",
        "import nltk, string, re, spacy,unicodedata, random\n",
        "from bs4 import BeautifulSoup\n",
        "import warnings\n",
        "warnings.filterwarnings('ignore')"
      ]
    },
    {
      "cell_type": "code",
      "source": [
        "import os\n",
        "from zipfile import ZipFile\n",
        "\n",
        "# Unzip files\n",
        "with ZipFile('/content/Train.zip', 'r') as zip_ref:\n",
        "    zip_ref.extractall('/content/Train')\n",
        "\n",
        "with ZipFile('/content/Dev.zip', 'r') as zip_ref:\n",
        "    zip_ref.extractall('/content/Dev')\n",
        "\n",
        "with ZipFile('/content/Test.zip', 'r') as zip_ref:\n",
        "    zip_ref.extractall('/content/Test')\n",
        "\n",
        "with ZipFile('/content/Test_labels.zip', 'r') as zip_ref:\n",
        "    zip_ref.extractall('/content/Test_labels')\n",
        "# List files in the Train directory\n",
        "os.listdir('/content/Test_labels')"
      ],
      "metadata": {
        "colab": {
          "base_uri": "https://localhost:8080/"
        },
        "id": "TS4jaBBOV7hO",
        "outputId": "73041543-3613-405d-8164-5a4f62c7e9d5"
      },
      "execution_count": null,
      "outputs": [
        {
          "output_type": "execute_result",
          "data": {
            "text/plain": [
              "['431.jpg',\n",
              " '205.jpg',\n",
              " '467.jpg',\n",
              " '861.jpg',\n",
              " '136.jpg',\n",
              " '246.jpg',\n",
              " '852.jpg',\n",
              " '695.jpg',\n",
              " '939.jpg',\n",
              " '252.jpg',\n",
              " '774.jpg',\n",
              " '710.jpg',\n",
              " '35.jpg',\n",
              " '622.jpg',\n",
              " '254.jpg',\n",
              " '952.jpg',\n",
              " '984.jpg',\n",
              " '566.jpg',\n",
              " '510.jpg',\n",
              " '832.jpg',\n",
              " '311.jpg',\n",
              " '742.jpg',\n",
              " '806.jpg',\n",
              " '234.jpg',\n",
              " '874.jpg',\n",
              " '258.jpg',\n",
              " '667.jpg',\n",
              " '511.jpg',\n",
              " '190.jpg',\n",
              " '86.jpg',\n",
              " '67.jpg',\n",
              " '417.jpg',\n",
              " '353.jpg',\n",
              " '269.jpg',\n",
              " '11.jpg',\n",
              " '479.jpg',\n",
              " '31.jpg',\n",
              " '123.jpg',\n",
              " '646.jpg',\n",
              " '427.jpg',\n",
              " '176.jpg',\n",
              " '171.jpg',\n",
              " '857.jpg',\n",
              " '432.jpg',\n",
              " '209.jpg',\n",
              " '409.jpg',\n",
              " '851.jpg',\n",
              " '425.jpg',\n",
              " '73.jpg',\n",
              " '398.jpg',\n",
              " '794.jpg',\n",
              " '681.jpg',\n",
              " '673.jpg',\n",
              " '873.jpg',\n",
              " '27.jpg',\n",
              " '474.jpg',\n",
              " '210.jpg',\n",
              " '858.jpg',\n",
              " '297.jpg',\n",
              " '789.jpg',\n",
              " '687.jpg',\n",
              " '871.jpg',\n",
              " '830.jpg',\n",
              " '325.jpg',\n",
              " '157.jpg',\n",
              " '867.jpg',\n",
              " '954.jpg',\n",
              " '973.jpg',\n",
              " '326.jpg',\n",
              " '206.jpg',\n",
              " '445.jpg',\n",
              " '63.jpg',\n",
              " '760.jpg',\n",
              " '950.jpg',\n",
              " '293.jpg',\n",
              " '763.jpg',\n",
              " '360.jpg',\n",
              " '433.jpg',\n",
              " '571.jpg',\n",
              " '563.jpg',\n",
              " '501.jpg',\n",
              " '387.jpg',\n",
              " '639.jpg',\n",
              " '22.jpg',\n",
              " '76.jpg',\n",
              " '463.jpg',\n",
              " '430.jpg',\n",
              " '98.jpg',\n",
              " '183.jpg',\n",
              " '634.jpg',\n",
              " '582.jpg',\n",
              " '923.jpg',\n",
              " '943.jpg',\n",
              " '841.jpg',\n",
              " '531.jpg',\n",
              " '944.jpg',\n",
              " '101.jpg',\n",
              " '497.jpg',\n",
              " '304.jpg',\n",
              " '457.jpg',\n",
              " '164.jpg',\n",
              " '942.jpg',\n",
              " '674.jpg',\n",
              " '376.jpg',\n",
              " '115.jpg',\n",
              " '910.jpg',\n",
              " '520.jpg',\n",
              " '33.jpg',\n",
              " '990.jpg',\n",
              " '45.jpg',\n",
              " '725.jpg',\n",
              " '961.jpg',\n",
              " '346.jpg',\n",
              " '544.jpg',\n",
              " '800.jpg',\n",
              " '141.jpg',\n",
              " '284.jpg',\n",
              " '559.jpg',\n",
              " '525.jpg',\n",
              " '543.jpg',\n",
              " '620.jpg',\n",
              " '79.jpg',\n",
              " '316.jpg',\n",
              " '140.jpg',\n",
              " '342.jpg',\n",
              " '182.jpg',\n",
              " '405.jpg',\n",
              " '279.jpg',\n",
              " '604.jpg',\n",
              " '818.jpg',\n",
              " '317.jpg',\n",
              " '698.jpg',\n",
              " '204.jpg',\n",
              " '824.jpg',\n",
              " '161.jpg',\n",
              " '356.jpg',\n",
              " '421.jpg',\n",
              " '270.jpg',\n",
              " '809.jpg',\n",
              " '220.jpg',\n",
              " '488.jpg',\n",
              " '24.jpg',\n",
              " '408.jpg',\n",
              " '927.jpg',\n",
              " '856.jpg',\n",
              " '986.jpg',\n",
              " '783.jpg',\n",
              " '104.jpg',\n",
              " '715.jpg',\n",
              " '9.jpg',\n",
              " '963.jpg',\n",
              " '61.jpg',\n",
              " '733.jpg',\n",
              " '505.jpg',\n",
              " '656.jpg',\n",
              " '644.jpg',\n",
              " 'test_with_labels.csv',\n",
              " '757.jpg',\n",
              " '746.jpg',\n",
              " '412.jpg',\n",
              " '551.jpg',\n",
              " '971.jpg',\n",
              " '390.jpg',\n",
              " '191.jpg',\n",
              " '25.jpg',\n",
              " '322.jpg',\n",
              " '960.jpg',\n",
              " '529.jpg',\n",
              " '584.jpg',\n",
              " '545.jpg',\n",
              " '134.jpg',\n",
              " '400.jpg',\n",
              " '440.jpg',\n",
              " '795.jpg',\n",
              " '449.jpg',\n",
              " '187.jpg',\n",
              " '239.jpg',\n",
              " '51.jpg',\n",
              " '396.jpg',\n",
              " '557.jpg',\n",
              " '635.jpg',\n",
              " '282.jpg',\n",
              " '378.jpg',\n",
              " '112.jpg',\n",
              " '410.jpg',\n",
              " '373.jpg',\n",
              " '649.jpg',\n",
              " '108.jpg',\n",
              " '713.jpg',\n",
              " '889.jpg',\n",
              " '339.jpg',\n",
              " '958.jpg',\n",
              " '912.jpg',\n",
              " '168.jpg',\n",
              " '66.jpg',\n",
              " '215.jpg',\n",
              " '670.jpg',\n",
              " '909.jpg',\n",
              " '903.jpg',\n",
              " '350.jpg',\n",
              " '677.jpg']"
            ]
          },
          "metadata": {},
          "execution_count": 14
        }
      ]
    },
    {
      "cell_type": "code",
      "source": [
        "import pandas as pd\n",
        "import numpy as np\n",
        "from tensorflow.keras.preprocessing.text import Tokenizer\n",
        "from tensorflow.keras.preprocessing.sequence import pad_sequences\n",
        "from sklearn.preprocessing import LabelEncoder\n",
        "from sklearn.utils.class_weight import compute_class_weight\n",
        "from tensorflow.keras.models import Sequential\n",
        "from tensorflow.keras.layers import Embedding, Bidirectional, LSTM, Dense, Dropout\n",
        "from tensorflow.keras.regularizers import l2\n",
        "from sklearn.metrics import classification_report\n",
        "\n",
        "# Load the datasets (adjust the file path as needed)\n",
        "train_csv = pd.read_csv('/content/Train/train.csv', encoding='utf-8')\n",
        "test_csv = pd.read_csv('/content/Test/test.csv', encoding='utf-8')\n",
        "dev_csv = pd.read_csv('/content/Dev/dev.csv', encoding='utf-8')\n",
        "test_labels_csv=pd.read_csv('/content/Test_labels/test_with_labels.csv')\n",
        "# Preprocess data\n",
        "text_column = 'transcriptions'\n",
        "label_column = 'labels'\n",
        "\n",
        "# Fill missing values in 'transcriptions' column\n",
        "train_csv[text_column] = train_csv[text_column].fillna('')\n",
        "test_csv[text_column] = test_csv[text_column].fillna('')\n",
        "\n",
        "# Tokenization\n",
        "max_vocab_size = 10000\n",
        "max_sequence_length = 100\n",
        "\n",
        "tokenizer = Tokenizer(num_words=max_vocab_size, oov_token=\"<OOV>\")\n",
        "tokenizer.fit_on_texts(train_csv[text_column])\n",
        "\n",
        "X_train = tokenizer.texts_to_sequences(train_csv[text_column])\n",
        "X_test = tokenizer.texts_to_sequences(test_csv[text_column])\n",
        "X_dev = tokenizer.texts_to_sequences(dev_csv[text_column])\n",
        "X_train = pad_sequences(X_train, maxlen=max_sequence_length, padding='post', truncating='post')\n",
        "X_test = pad_sequences(X_test, maxlen=max_sequence_length, padding='post', truncating='post')\n",
        "X_dev = pad_sequences(X_dev, maxlen=max_sequence_length, padding='post', truncating='post')\n",
        "\n",
        "\n",
        "# Label Encoding\n",
        "label_encoder = LabelEncoder()\n",
        "y_train = label_encoder.fit_transform(train_csv[label_column])\n",
        "y_dev = label_encoder.transform(dev_csv[label_column])\n",
        "\n",
        "# Compute class weights for binary classification\n",
        "class_weights = compute_class_weight(\n",
        "    class_weight='balanced',\n",
        "    classes=np.unique(y_train),  # Use original binary labels (0 and 1)\n",
        "    y=y_train\n",
        ")\n",
        "class_weights_dict = {i: class_weights[i] for i in range(len(class_weights))}\n",
        "\n",
        "# Define the BiLSTM model with regularization\n",
        "model = Sequential([\n",
        "    Embedding(input_dim=max_vocab_size, output_dim=128, input_length=max_sequence_length),  # Embedding layer\n",
        "    Bidirectional(LSTM(64, return_sequences=False)),  # BiLSTM layer\n",
        "    Dropout(0.8),  # Dropout to avoid overfitting\n",
        "    Dense(128, activation='relu', kernel_regularizer=l2(0.01)),  # Fully connected layer with L2 regularization\n",
        "    Dropout(0.5),\n",
        "    Dense(1, activation='sigmoid')  # Sigmoid for binary classification\n",
        "])\n",
        "\n",
        "# Compile the model\n",
        "model.compile(\n",
        "    optimizer='adam',\n",
        "    loss='binary_crossentropy',  # Binary classification loss\n",
        "    metrics=['accuracy']\n",
        ")\n",
        "\n",
        "# Model summary\n",
        "model.build(input_shape=(None, max_sequence_length))  # Explicitly build the model with input shape\n",
        "model.summary()\n",
        "\n",
        "# Split the dev set (you already have dev_csv)\n",
        "X_dev = tokenizer.texts_to_sequences(dev_csv[text_column])\n",
        "X_dev = pad_sequences(X_dev, maxlen=max_sequence_length, padding='post', truncating='post')\n",
        "y_dev = label_encoder.transform(dev_csv[label_column])\n",
        "\n",
        "# Train the model\n",
        "history = model.fit(\n",
        "    X_train, y_train,\n",
        "    validation_data=(X_dev, y_dev),\n",
        "    epochs=10,\n",
        "    batch_size=16,  # Lower batch size for better optimization in smaller datasets\n",
        "    class_weight=class_weights_dict,  # Add class weights if class imbalance exists\n",
        "    verbose=1\n",
        ")\n",
        "\n",
        "# Evaluate the model on the dev set using BiLSTM\n",
        "val_loss, val_accuracy = model.evaluate(X_dev, y_dev)\n",
        "print(f\"Validation Loss: {val_loss}, Validation Accuracy: {val_accuracy}\")\n",
        "\n",
        "# Make predictions on the dev set\n",
        "y_dev_pred = model.predict(X_dev)\n",
        "y_dev_labels = (y_dev_pred > 0.5).astype(int)\n",
        "\n",
        "# Classification report\n",
        "print(classification_report(y_dev, y_dev_labels))\n",
        "\n",
        "\n"
      ],
      "metadata": {
        "colab": {
          "base_uri": "https://localhost:8080/",
          "height": 897
        },
        "id": "-H3NZxYvWBl0",
        "outputId": "3bc61c8a-6e54-45b2-933e-a0be723be085"
      },
      "execution_count": null,
      "outputs": [
        {
          "output_type": "display_data",
          "data": {
            "text/plain": [
              "\u001b[1mModel: \"sequential_4\"\u001b[0m\n"
            ],
            "text/html": [
              "<pre style=\"white-space:pre;overflow-x:auto;line-height:normal;font-family:Menlo,'DejaVu Sans Mono',consolas,'Courier New',monospace\"><span style=\"font-weight: bold\">Model: \"sequential_4\"</span>\n",
              "</pre>\n"
            ]
          },
          "metadata": {}
        },
        {
          "output_type": "display_data",
          "data": {
            "text/plain": [
              "┏━━━━━━━━━━━━━━━━━━━━━━━━━━━━━━━━━━━━━━┳━━━━━━━━━━━━━━━━━━━━━━━━━━━━━┳━━━━━━━━━━━━━━━━━┓\n",
              "┃\u001b[1m \u001b[0m\u001b[1mLayer (type)                        \u001b[0m\u001b[1m \u001b[0m┃\u001b[1m \u001b[0m\u001b[1mOutput Shape               \u001b[0m\u001b[1m \u001b[0m┃\u001b[1m \u001b[0m\u001b[1m        Param #\u001b[0m\u001b[1m \u001b[0m┃\n",
              "┡━━━━━━━━━━━━━━━━━━━━━━━━━━━━━━━━━━━━━━╇━━━━━━━━━━━━━━━━━━━━━━━━━━━━━╇━━━━━━━━━━━━━━━━━┩\n",
              "│ embedding_4 (\u001b[38;5;33mEmbedding\u001b[0m)              │ (\u001b[38;5;45mNone\u001b[0m, \u001b[38;5;34m100\u001b[0m, \u001b[38;5;34m128\u001b[0m)            │       \u001b[38;5;34m1,280,000\u001b[0m │\n",
              "├──────────────────────────────────────┼─────────────────────────────┼─────────────────┤\n",
              "│ bidirectional_4 (\u001b[38;5;33mBidirectional\u001b[0m)      │ (\u001b[38;5;45mNone\u001b[0m, \u001b[38;5;34m128\u001b[0m)                 │          \u001b[38;5;34m98,816\u001b[0m │\n",
              "├──────────────────────────────────────┼─────────────────────────────┼─────────────────┤\n",
              "│ dropout_8 (\u001b[38;5;33mDropout\u001b[0m)                  │ (\u001b[38;5;45mNone\u001b[0m, \u001b[38;5;34m128\u001b[0m)                 │               \u001b[38;5;34m0\u001b[0m │\n",
              "├──────────────────────────────────────┼─────────────────────────────┼─────────────────┤\n",
              "│ dense_8 (\u001b[38;5;33mDense\u001b[0m)                      │ (\u001b[38;5;45mNone\u001b[0m, \u001b[38;5;34m128\u001b[0m)                 │          \u001b[38;5;34m16,512\u001b[0m │\n",
              "├──────────────────────────────────────┼─────────────────────────────┼─────────────────┤\n",
              "│ dropout_9 (\u001b[38;5;33mDropout\u001b[0m)                  │ (\u001b[38;5;45mNone\u001b[0m, \u001b[38;5;34m128\u001b[0m)                 │               \u001b[38;5;34m0\u001b[0m │\n",
              "├──────────────────────────────────────┼─────────────────────────────┼─────────────────┤\n",
              "│ dense_9 (\u001b[38;5;33mDense\u001b[0m)                      │ (\u001b[38;5;45mNone\u001b[0m, \u001b[38;5;34m1\u001b[0m)                   │             \u001b[38;5;34m129\u001b[0m │\n",
              "└──────────────────────────────────────┴─────────────────────────────┴─────────────────┘\n"
            ],
            "text/html": [
              "<pre style=\"white-space:pre;overflow-x:auto;line-height:normal;font-family:Menlo,'DejaVu Sans Mono',consolas,'Courier New',monospace\">┏━━━━━━━━━━━━━━━━━━━━━━━━━━━━━━━━━━━━━━┳━━━━━━━━━━━━━━━━━━━━━━━━━━━━━┳━━━━━━━━━━━━━━━━━┓\n",
              "┃<span style=\"font-weight: bold\"> Layer (type)                         </span>┃<span style=\"font-weight: bold\"> Output Shape                </span>┃<span style=\"font-weight: bold\">         Param # </span>┃\n",
              "┡━━━━━━━━━━━━━━━━━━━━━━━━━━━━━━━━━━━━━━╇━━━━━━━━━━━━━━━━━━━━━━━━━━━━━╇━━━━━━━━━━━━━━━━━┩\n",
              "│ embedding_4 (<span style=\"color: #0087ff; text-decoration-color: #0087ff\">Embedding</span>)              │ (<span style=\"color: #00d7ff; text-decoration-color: #00d7ff\">None</span>, <span style=\"color: #00af00; text-decoration-color: #00af00\">100</span>, <span style=\"color: #00af00; text-decoration-color: #00af00\">128</span>)            │       <span style=\"color: #00af00; text-decoration-color: #00af00\">1,280,000</span> │\n",
              "├──────────────────────────────────────┼─────────────────────────────┼─────────────────┤\n",
              "│ bidirectional_4 (<span style=\"color: #0087ff; text-decoration-color: #0087ff\">Bidirectional</span>)      │ (<span style=\"color: #00d7ff; text-decoration-color: #00d7ff\">None</span>, <span style=\"color: #00af00; text-decoration-color: #00af00\">128</span>)                 │          <span style=\"color: #00af00; text-decoration-color: #00af00\">98,816</span> │\n",
              "├──────────────────────────────────────┼─────────────────────────────┼─────────────────┤\n",
              "│ dropout_8 (<span style=\"color: #0087ff; text-decoration-color: #0087ff\">Dropout</span>)                  │ (<span style=\"color: #00d7ff; text-decoration-color: #00d7ff\">None</span>, <span style=\"color: #00af00; text-decoration-color: #00af00\">128</span>)                 │               <span style=\"color: #00af00; text-decoration-color: #00af00\">0</span> │\n",
              "├──────────────────────────────────────┼─────────────────────────────┼─────────────────┤\n",
              "│ dense_8 (<span style=\"color: #0087ff; text-decoration-color: #0087ff\">Dense</span>)                      │ (<span style=\"color: #00d7ff; text-decoration-color: #00d7ff\">None</span>, <span style=\"color: #00af00; text-decoration-color: #00af00\">128</span>)                 │          <span style=\"color: #00af00; text-decoration-color: #00af00\">16,512</span> │\n",
              "├──────────────────────────────────────┼─────────────────────────────┼─────────────────┤\n",
              "│ dropout_9 (<span style=\"color: #0087ff; text-decoration-color: #0087ff\">Dropout</span>)                  │ (<span style=\"color: #00d7ff; text-decoration-color: #00d7ff\">None</span>, <span style=\"color: #00af00; text-decoration-color: #00af00\">128</span>)                 │               <span style=\"color: #00af00; text-decoration-color: #00af00\">0</span> │\n",
              "├──────────────────────────────────────┼─────────────────────────────┼─────────────────┤\n",
              "│ dense_9 (<span style=\"color: #0087ff; text-decoration-color: #0087ff\">Dense</span>)                      │ (<span style=\"color: #00d7ff; text-decoration-color: #00d7ff\">None</span>, <span style=\"color: #00af00; text-decoration-color: #00af00\">1</span>)                   │             <span style=\"color: #00af00; text-decoration-color: #00af00\">129</span> │\n",
              "└──────────────────────────────────────┴─────────────────────────────┴─────────────────┘\n",
              "</pre>\n"
            ]
          },
          "metadata": {}
        },
        {
          "output_type": "display_data",
          "data": {
            "text/plain": [
              "\u001b[1m Total params: \u001b[0m\u001b[38;5;34m1,395,457\u001b[0m (5.32 MB)\n"
            ],
            "text/html": [
              "<pre style=\"white-space:pre;overflow-x:auto;line-height:normal;font-family:Menlo,'DejaVu Sans Mono',consolas,'Courier New',monospace\"><span style=\"font-weight: bold\"> Total params: </span><span style=\"color: #00af00; text-decoration-color: #00af00\">1,395,457</span> (5.32 MB)\n",
              "</pre>\n"
            ]
          },
          "metadata": {}
        },
        {
          "output_type": "display_data",
          "data": {
            "text/plain": [
              "\u001b[1m Trainable params: \u001b[0m\u001b[38;5;34m1,395,457\u001b[0m (5.32 MB)\n"
            ],
            "text/html": [
              "<pre style=\"white-space:pre;overflow-x:auto;line-height:normal;font-family:Menlo,'DejaVu Sans Mono',consolas,'Courier New',monospace\"><span style=\"font-weight: bold\"> Trainable params: </span><span style=\"color: #00af00; text-decoration-color: #00af00\">1,395,457</span> (5.32 MB)\n",
              "</pre>\n"
            ]
          },
          "metadata": {}
        },
        {
          "output_type": "display_data",
          "data": {
            "text/plain": [
              "\u001b[1m Non-trainable params: \u001b[0m\u001b[38;5;34m0\u001b[0m (0.00 B)\n"
            ],
            "text/html": [
              "<pre style=\"white-space:pre;overflow-x:auto;line-height:normal;font-family:Menlo,'DejaVu Sans Mono',consolas,'Courier New',monospace\"><span style=\"font-weight: bold\"> Non-trainable params: </span><span style=\"color: #00af00; text-decoration-color: #00af00\">0</span> (0.00 B)\n",
              "</pre>\n"
            ]
          },
          "metadata": {}
        },
        {
          "output_type": "stream",
          "name": "stdout",
          "text": [
            "Epoch 1/10\n",
            "\u001b[1m40/40\u001b[0m \u001b[32m━━━━━━━━━━━━━━━━━━━━\u001b[0m\u001b[37m\u001b[0m \u001b[1m11s\u001b[0m 167ms/step - accuracy: 0.4245 - loss: 1.7759 - val_accuracy: 0.6187 - val_loss: 1.2774\n",
            "Epoch 2/10\n",
            "\u001b[1m40/40\u001b[0m \u001b[32m━━━━━━━━━━━━━━━━━━━━\u001b[0m\u001b[37m\u001b[0m \u001b[1m8s\u001b[0m 101ms/step - accuracy: 0.5480 - loss: 1.1788 - val_accuracy: 0.4938 - val_loss: 0.9585\n",
            "Epoch 3/10\n",
            "\u001b[1m40/40\u001b[0m \u001b[32m━━━━━━━━━━━━━━━━━━━━\u001b[0m\u001b[37m\u001b[0m \u001b[1m7s\u001b[0m 151ms/step - accuracy: 0.7580 - loss: 0.8332 - val_accuracy: 0.7250 - val_loss: 0.6941\n",
            "Epoch 4/10\n",
            "\u001b[1m40/40\u001b[0m \u001b[32m━━━━━━━━━━━━━━━━━━━━\u001b[0m\u001b[37m\u001b[0m \u001b[1m8s\u001b[0m 102ms/step - accuracy: 0.9591 - loss: 0.5003 - val_accuracy: 0.7312 - val_loss: 0.6980\n",
            "Epoch 5/10\n",
            "\u001b[1m40/40\u001b[0m \u001b[32m━━━━━━━━━━━━━━━━━━━━\u001b[0m\u001b[37m\u001b[0m \u001b[1m7s\u001b[0m 160ms/step - accuracy: 0.9918 - loss: 0.1568 - val_accuracy: 0.7812 - val_loss: 0.7866\n",
            "Epoch 6/10\n",
            "\u001b[1m40/40\u001b[0m \u001b[32m━━━━━━━━━━━━━━━━━━━━\u001b[0m\u001b[37m\u001b[0m \u001b[1m4s\u001b[0m 102ms/step - accuracy: 0.9999 - loss: 0.0947 - val_accuracy: 0.7437 - val_loss: 0.8615\n",
            "Epoch 7/10\n",
            "\u001b[1m40/40\u001b[0m \u001b[32m━━━━━━━━━━━━━━━━━━━━\u001b[0m\u001b[37m\u001b[0m \u001b[1m5s\u001b[0m 104ms/step - accuracy: 0.9998 - loss: 0.0679 - val_accuracy: 0.7375 - val_loss: 0.9140\n",
            "Epoch 8/10\n",
            "\u001b[1m40/40\u001b[0m \u001b[32m━━━━━━━━━━━━━━━━━━━━\u001b[0m\u001b[37m\u001b[0m \u001b[1m6s\u001b[0m 150ms/step - accuracy: 0.9969 - loss: 0.0540 - val_accuracy: 0.7563 - val_loss: 0.9441\n",
            "Epoch 9/10\n",
            "\u001b[1m40/40\u001b[0m \u001b[32m━━━━━━━━━━━━━━━━━━━━\u001b[0m\u001b[37m\u001b[0m \u001b[1m8s\u001b[0m 101ms/step - accuracy: 1.0000 - loss: 0.0490 - val_accuracy: 0.7375 - val_loss: 1.0954\n",
            "Epoch 10/10\n",
            "\u001b[1m40/40\u001b[0m \u001b[32m━━━━━━━━━━━━━━━━━━━━\u001b[0m\u001b[37m\u001b[0m \u001b[1m6s\u001b[0m 133ms/step - accuracy: 1.0000 - loss: 0.0361 - val_accuracy: 0.7437 - val_loss: 1.1258\n",
            "\u001b[1m5/5\u001b[0m \u001b[32m━━━━━━━━━━━━━━━━━━━━\u001b[0m\u001b[37m\u001b[0m \u001b[1m1s\u001b[0m 39ms/step - accuracy: 0.7826 - loss: 0.9575\n",
            "Validation Loss: 1.1258134841918945, Validation Accuracy: 0.7437499761581421\n",
            "\u001b[1m5/5\u001b[0m \u001b[32m━━━━━━━━━━━━━━━━━━━━\u001b[0m\u001b[37m\u001b[0m \u001b[1m1s\u001b[0m 29ms/step\n",
            "              precision    recall  f1-score   support\n",
            "\n",
            "           0       0.76      0.84      0.80        97\n",
            "           1       0.70      0.60      0.65        63\n",
            "\n",
            "    accuracy                           0.74       160\n",
            "   macro avg       0.73      0.72      0.72       160\n",
            "weighted avg       0.74      0.74      0.74       160\n",
            "\n"
          ]
        }
      ]
    },
    {
      "cell_type": "code",
      "source": [
        "# Preprocess the test data\n",
        "X_test = tokenizer.texts_to_sequences(test_csv[text_column])\n",
        "X_test = pad_sequences(X_test, maxlen=max_sequence_length, padding='post', truncating='post')\n",
        "\n",
        "# Get the true labels from the test_labels_csv\n",
        "y_test = label_encoder.transform(test_labels_csv[label_column])\n",
        "\n",
        "# Make predictions on the test set\n",
        "y_test_pred = model.predict(X_test)\n",
        "y_test_labels = (y_test_pred > 0.5).astype(int)\n",
        "\n",
        "# Save the predictions to a new dataset (as a DataFrame)\n",
        "predictions_df = test_csv.copy()\n",
        "predictions_df['predicted_labels'] = y_test_labels\n",
        "\n",
        "# Save the new dataset with predictions to a CSV file\n",
        "predictions_df.to_csv('/content/Test/test_predictions.csv', index=False)\n",
        "\n",
        "# Classification report for the test set\n",
        "print(classification_report(y_test, y_test_labels))\n"
      ],
      "metadata": {
        "id": "wr8iiz9UWByn",
        "colab": {
          "base_uri": "https://localhost:8080/"
        },
        "outputId": "5aa0c62c-c6a4-45a2-8892-7300f1119ff6"
      },
      "execution_count": null,
      "outputs": [
        {
          "output_type": "stream",
          "name": "stdout",
          "text": [
            "\u001b[1m7/7\u001b[0m \u001b[32m━━━━━━━━━━━━━━━━━━━━\u001b[0m\u001b[37m\u001b[0m \u001b[1m0s\u001b[0m 26ms/step\n",
            "              precision    recall  f1-score   support\n",
            "\n",
            "           0       0.76      0.82      0.79       122\n",
            "           1       0.68      0.59      0.63        78\n",
            "\n",
            "    accuracy                           0.73       200\n",
            "   macro avg       0.72      0.70      0.71       200\n",
            "weighted avg       0.73      0.73      0.73       200\n",
            "\n"
          ]
        }
      ]
    },
    {
      "cell_type": "code",
      "source": [],
      "metadata": {
        "id": "RB_8WgEYWB28"
      },
      "execution_count": null,
      "outputs": []
    },
    {
      "cell_type": "code",
      "source": [],
      "metadata": {
        "id": "eWKTpiG8WB7U"
      },
      "execution_count": null,
      "outputs": []
    },
    {
      "cell_type": "code",
      "source": [],
      "metadata": {
        "id": "zqN6rc0JWB_I"
      },
      "execution_count": null,
      "outputs": []
    },
    {
      "cell_type": "code",
      "source": [],
      "metadata": {
        "id": "heJsZCBOV8JX"
      },
      "execution_count": null,
      "outputs": []
    }
  ]
}